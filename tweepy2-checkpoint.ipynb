{
 "cells": [
  {
   "cell_type": "code",
   "execution_count": 1,
   "metadata": {},
   "outputs": [
    {
     "name": "stdout",
     "output_type": "stream",
     "text": [
      "['What', 'does', 'the', 'world', 'think', 'of', 'Cadence']\n",
      "[('What', 'WP'), ('does', 'VBZ'), ('the', 'DT'), ('world', 'NN'), ('think', 'NN'), ('of', 'IN'), ('Cadence', 'NN')]\n",
      "0.0\n"
     ]
    }
   ],
   "source": [
    "#Example of textblob library.\n",
    "\n",
    "from textblob import TextBlob\n",
    "import nltk\n",
    "# nltk.download('punkt') #run this to download missing parts in TextBlob. this can be changed to ('all')\n",
    "# nltk.download('all')\n",
    "wiki = TextBlob(\"What does the world think of Cadence\")\n",
    "print(wiki.words) #tokenize the text with the .words attribute\n",
    "print(wiki.tags)  # see part of speech by accessing the tags attribute\n",
    "print(wiki.sentiment.polarity) #see the sentiment by accessing the sentiment.polatity. The sentiment returns a value between -1 to 1"
   ]
  },
  {
   "cell_type": "code",
   "execution_count": 11,
   "metadata": {},
   "outputs": [
    {
     "name": "stdout",
     "output_type": "stream",
     "text": [
      "Learn how Cadence Design Systems used our solutions to secure its data sharing services: https://t.co/1hHW1wGcnh https://t.co/PH5xX5bVhB \n",
      "\n",
      "Sentiment of tweet 1 is (polarity=0.40, subjectivity=0.60))\n",
      "Learn how Cadence Design Systems used our solutions to secure its data sharing services: https://t.co/HPSJBLyAko https://t.co/wvqEZMGjul \n",
      "\n",
      "Sentiment of tweet 2 is (polarity=0.40, subjectivity=0.60))\n",
      "RT @Cadence: Cadence ranked #2 among Top 50 Employers in Electronic Design by Electronic Design Magazine! https://t.co/ZcsCIDGNR5 https://t… \n",
      "\n",
      "Sentiment of tweet 3 is (polarity=0.62, subjectivity=0.50))\n",
      "Congrats @Cadence_Inc on winning Medical Design &amp; Outsourcing Mag’s Leadership in MedTech Award/ Contract Manufac. https://t.co/dTnOla3QFx \n",
      "\n",
      "Sentiment of tweet 4 is (polarity=0.25, subjectivity=0.38))\n",
      "RT @WatchlistN: Cadence Design Systems Inc $CDNS Given Average Recommendation of “Hold” by Brokerages https://t.co/H4OpNxdfNq \n",
      "\n",
      "Sentiment of tweet 5 is (polarity=-0.15, subjectivity=0.40))\n",
      "Cadence Design Systems Inc $CDNS Given Average Recommendation of “Hold” by Brokerages https://t.co/H4OpNxdfNq \n",
      "\n",
      "Sentiment of tweet 6 is (polarity=-0.15, subjectivity=0.40))\n",
      "\n",
      " Average polarity of 6 \" Cadence Design \" tweets is 0.23\n"
     ]
    }
   ],
   "source": [
    "import tweepy\n",
    "#from textblob import textblob\n",
    "#maybe I will need to import nltk right here..\n",
    "\n",
    "\n",
    "\n",
    "# Step 1 - Authenticate\n",
    "\n",
    "#we want to create four variables that authenticating Twitter will require. It can be find in the dashboard and we can copy and paste them as strings.\n",
    "#this requires signing in to Twitter Application Management\n",
    "\n",
    "\n",
    "consumer_key = 'vq8nd4stIwAkT9H6pnaXLrpmF'\n",
    "consumer_secret ='ogbJtkoEstiyNf6zVi1uwwEDQtAlIztecevdzY036Wk55NHjf5'\n",
    "\n",
    "access_token = '812810173752504320-99B0qd9irQzl65drAoA5j3k0P6YaCzF'\n",
    "access_token_secret = 'lBemEaGf0l4VOyrsTL0lcHx6dO1K0y92ChwuGJQO4wa4l'\n",
    "\n",
    "auth = tweepy.OAuthHandler(consumer_key, consumer_secret) #log in via code to twitter application management, using the consumer arguments\n",
    "auth.set_access_token(access_token, access_token_secret) #this calls set access token method on the auth variable which takes the arguments if the token.\n",
    "\n",
    "api = tweepy.API(auth) #from this variable we do all the tweet magic. It needs only the autentication variable auth\n",
    "\n",
    "#Step 2 - Retrieve Tweets\n",
    "\n",
    "string = 'Cadence Design'\n",
    "#string = 'nova instruments'\n",
    "\n",
    "\n",
    "public_tweets = api.search(q=string,count=100) #stores a list of tweets containing this string. \n",
    "\n",
    "i=0\n",
    "polarity_of_tweet=0\n",
    "for tweet in public_tweets:\n",
    "    #print (tweet.text)\n",
    "    \n",
    "    #Step 3 Perform Sentiment Analysis on Tweets\n",
    "    analysis = TextBlob(tweet.text)\n",
    "    if (analysis.sentiment.polarity != 0):\n",
    "        print (tweet.text, '\\n')\n",
    "        print(\"Sentiment of tweet\",i+1,\"is (polarity={0:.2f}, subjectivity={1:.2f}))\".format(analysis.sentiment.polarity,analysis.sentiment.subjectivity))\n",
    "        #print(analysis.sentiment)\n",
    "        polarity_of_tweet += analysis.sentiment.polarity\n",
    "        i+=1\n",
    "\n",
    "print(\"\\n Average polarity of {}\".format(i),'\"',string,'\"', \"tweets is {0:.2f}\".format(polarity_of_tweet/i))"
   ]
  },
  {
   "cell_type": "code",
   "execution_count": null,
   "metadata": {
    "collapsed": true
   },
   "outputs": [],
   "source": []
  }
 ],
 "metadata": {
  "kernelspec": {
   "display_name": "Python 3",
   "language": "python",
   "name": "python3"
  },
  "language_info": {
   "codemirror_mode": {
    "name": "ipython",
    "version": 3
   },
   "file_extension": ".py",
   "mimetype": "text/x-python",
   "name": "python",
   "nbconvert_exporter": "python",
   "pygments_lexer": "ipython3",
   "version": "3.5.2"
  }
 },
 "nbformat": 4,
 "nbformat_minor": 1
}
