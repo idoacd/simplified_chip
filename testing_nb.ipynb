{
 "cells": [
  {
   "cell_type": "code",
   "execution_count": null,
   "metadata": {
    "collapsed": true
   },
   "outputs": [],
   "source": [
    "#import numpy as np\n",
    "#import tensorflow as tf\n",
    "#print([1,2,3])\n",
    "\n",
    "#x=tf.constant([1,3])\n",
    "\n",
    "#print(x)\n",
    "\n",
    "\n",
    "import numpy as np\n",
    "import tensorflow as tf\n",
    "#import matplotlib.pyplot as plt\n",
    "\n",
    "def weight_variable(shape):\n",
    "    initial = tf.truncated_normal(shape, stddev=1)\n",
    "    return tf.Variable(initial)\n",
    "\n",
    "# dataset\n",
    "xx = np.random.randint(0,1000,[1000,3])/1000.\n",
    "yy = xx[:,0] * 2 + xx[:,1] * 1.4 + xx[:,2] * 3\n",
    "\n",
    "# model\n",
    "x = tf.placeholder(tf.float32, shape=[None, 3])\n",
    "y_ = tf.placeholder(tf.float32, shape=[None])\n",
    "W1 = weight_variable([3, 1])\n",
    "y = tf.matmul(x, W1)\n",
    "\n",
    "# training and cost function\n",
    "cost_function = tf.reduce_mean(tf.square(tf.squeeze(y) - y_))\n",
    "train_function = tf.train.AdamOptimizer(1e-2).minimize(cost_function)\n",
    "\n",
    "# create a session\n",
    "sess = tf.Session()\n",
    "\n",
    "# train\n",
    "sess.run(tf.initialize_all_variables())\n",
    "for i in range(10000):\n",
    "    sess.run(train_function, feed_dict={x:xx, y_:yy})\n",
    "    if i % 1000 == 0:\n",
    "        print(sess.run(cost_function, feed_dict={x:xx, y_:yy}))"
   ]
  },
  {
   "cell_type": "code",
   "execution_count": 1,
   "metadata": {},
   "outputs": [],
   "source": [
    ""
   ]
  },
  {
   "cell_type": "code",
   "execution_count": 0,
   "metadata": {},
   "outputs": [],
   "source": [
    ""
   ]
  },
  {
   "cell_type": "code",
   "execution_count": null,
   "metadata": {},
   "outputs": [],
   "source": [
    ""
   ]
  }
 ],
 "metadata": {
  "kernelspec": {
   "display_name": "Python 2",
   "language": "python",
   "name": "python2"
  },
  "language_info": {
   "codemirror_mode": {
    "name": "ipython",
    "version": 2.0
   },
   "file_extension": ".py",
   "mimetype": "text/x-python",
   "name": "python",
   "nbconvert_exporter": "python",
   "pygments_lexer": "ipython2",
   "version": "2.7.6"
  }
 },
 "nbformat": 4,
 "nbformat_minor": 0
}