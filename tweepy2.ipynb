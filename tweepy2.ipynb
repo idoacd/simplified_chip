{
 "cells": [
  {
   "cell_type": "code",
   "execution_count": 19,
   "metadata": {},
   "outputs": [
    {
     "name": "stdout",
     "output_type": "stream",
     "text": [
      "['What', 'does', 'the', 'world', 'think', 'of', 'Cadence']\n",
      "[('What', 'WP'), ('does', 'VBZ'), ('the', 'DT'), ('world', 'NN'), ('think', 'NN'), ('of', 'IN'), ('Cadence', 'NN')]\n",
      "0.0\n"
     ]
    }
   ],
   "source": [
    "#Example of textblob library.\n",
    "\n",
    "from textblob import TextBlob\n",
    "import nltk\n",
    "# nltk.download('punkt') #run this to download missing parts in TextBlob. this can be changed to ('all')\n",
    "# nltk.download('all')\n",
    "wiki = TextBlob(\"What does the world think of Cadence\")\n",
    "print(wiki.words) #tokenize the text with the .words attribute\n",
    "print(wiki.tags)  # see part of speech by accessing the tags attribute\n",
    "print(wiki.sentiment.polarity) #see the sentiment by accessing the sentiment.polatity. The sentiment returns a value between -1 to 1"
   ]
  },
  {
   "cell_type": "code",
   "execution_count": 1,
   "metadata": {},
   "outputs": [
    {
     "ename": "NameError",
     "evalue": "name 'TextBlob' is not defined",
     "output_type": "error",
     "traceback": [
      "\u001b[0;31m---------------------------------------------------------------------------\u001b[0m",
      "\u001b[0;31mNameError\u001b[0m                                 Traceback (most recent call last)",
      "\u001b[0;32m<ipython-input-1-7aa4dcdda8d8>\u001b[0m in \u001b[0;36m<module>\u001b[0;34m()\u001b[0m\n\u001b[1;32m     36\u001b[0m \u001b[0;34m\u001b[0m\u001b[0m\n\u001b[1;32m     37\u001b[0m     \u001b[0;31m#Step 3 Perform Sentiment Analysis on Tweets\u001b[0m\u001b[0;34m\u001b[0m\u001b[0;34m\u001b[0m\u001b[0m\n\u001b[0;32m---> 38\u001b[0;31m     \u001b[0manalysis\u001b[0m \u001b[0;34m=\u001b[0m \u001b[0mTextBlob\u001b[0m\u001b[0;34m(\u001b[0m\u001b[0mtweet\u001b[0m\u001b[0;34m.\u001b[0m\u001b[0mtext\u001b[0m\u001b[0;34m)\u001b[0m\u001b[0;34m\u001b[0m\u001b[0m\n\u001b[0m\u001b[1;32m     39\u001b[0m     \u001b[0mprint\u001b[0m\u001b[0;34m(\u001b[0m\u001b[0;34m\"Sentiment of tweet\"\u001b[0m\u001b[0;34m,\u001b[0m\u001b[0mi\u001b[0m\u001b[0;34m+\u001b[0m\u001b[0;36m1\u001b[0m\u001b[0;34m,\u001b[0m\u001b[0;34m\"is (polarity={0:.2f}, subjectivity={1:.2f}))\"\u001b[0m\u001b[0;34m.\u001b[0m\u001b[0mformat\u001b[0m\u001b[0;34m(\u001b[0m\u001b[0manalysis\u001b[0m\u001b[0;34m.\u001b[0m\u001b[0msentiment\u001b[0m\u001b[0;34m.\u001b[0m\u001b[0mpolarity\u001b[0m\u001b[0;34m,\u001b[0m\u001b[0manalysis\u001b[0m\u001b[0;34m.\u001b[0m\u001b[0msentiment\u001b[0m\u001b[0;34m.\u001b[0m\u001b[0msubjectivity\u001b[0m\u001b[0;34m)\u001b[0m\u001b[0;34m)\u001b[0m\u001b[0;34m\u001b[0m\u001b[0m\n\u001b[1;32m     40\u001b[0m \u001b[0;31m#   print(analysis.sentiment)\u001b[0m\u001b[0;34m\u001b[0m\u001b[0;34m\u001b[0m\u001b[0m\n",
      "\u001b[0;31mNameError\u001b[0m: name 'TextBlob' is not defined"
     ]
    }
   ],
   "source": [
    "import tweepy\n",
    "#from textblob import textblob\n",
    "#maybe I will need to import nltk right here..\n",
    "\n",
    "\n",
    "\n",
    "# Step 1 - Authenticate\n",
    "\n",
    "#we want to create four variables that authenticating Twitter will require. It can be find in the dashboard and we can copy and paste them as strings.\n",
    "#this requires signing in to Twitter Application Management\n",
    "\n",
    "\n",
    "consumer_key = 'vq8nd4stIwAkT9H6pnaXLrpmF'\n",
    "consumer_secret ='ogbJtkoEstiyNf6zVi1uwwEDQtAlIztecevdzY036Wk55NHjf5'\n",
    "\n",
    "access_token = '812810173752504320-99B0qd9irQzl65drAoA5j3k0P6YaCzF'\n",
    "access_token_secret = 'lBemEaGf0l4VOyrsTL0lcHx6dO1K0y92ChwuGJQO4wa4l'\n",
    "\n",
    "auth = tweepy.OAuthHandler(consumer_key, consumer_secret) #log in via code to twitter application management, using the consumer arguments\n",
    "auth.set_access_token(access_token, access_token_secret) #this calls set access token method on the auth variable which takes the arguments if the token.\n",
    "\n",
    "api = tweepy.API(auth) #from this variable we do all the tweet magic. It needs only the autentication variable auth\n",
    "\n",
    "#Step 2 - Retrieve Tweets\n",
    "\n",
    "#string = 'Cadence Design'\n",
    "string = 'Nova instruments'\n",
    "\n",
    "\n",
    "public_tweets = api.search(string) #stores a list of tweets containing this string.\n",
    "\n",
    "i=0\n",
    "polarity_of_tweet=0\n",
    "for tweet in public_tweets:\n",
    "   # print (tweet.text)\n",
    "    \n",
    "    #Step 3 Perform Sentiment Analysis on Tweets\n",
    "    analysis = TextBlob(tweet.text)\n",
    "    print(\"Sentiment of tweet\",i+1,\"is (polarity={0:.2f}, subjectivity={1:.2f}))\".format(analysis.sentiment.polarity,analysis.sentiment.subjectivity))\n",
    "#   print(analysis.sentiment)\n",
    "    polarity_of_tweet += analysis.sentiment.polarity\n",
    "    i+=1\n",
    "\n",
    "print(\"\\n Average polarity of\",string, \"is {0:.2f}\".format(polarity_of_tweet/i))"
   ]
  },
  {
   "cell_type": "code",
   "execution_count": null,
   "metadata": {
    "collapsed": true
   },
   "outputs": [],
   "source": []
  }
 ],
 "metadata": {
  "kernelspec": {
   "display_name": "Python 3",
   "language": "python",
   "name": "python3"
  },
  "language_info": {
   "codemirror_mode": {
    "name": "ipython",
    "version": 3
   },
   "file_extension": ".py",
   "mimetype": "text/x-python",
   "name": "python",
   "nbconvert_exporter": "python",
   "pygments_lexer": "ipython3",
   "version": "3.5.2"
  }
 },
 "nbformat": 4,
 "nbformat_minor": 1
}
